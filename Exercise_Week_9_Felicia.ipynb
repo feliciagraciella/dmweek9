{
  "nbformat": 4,
  "nbformat_minor": 0,
  "metadata": {
    "colab": {
      "provenance": [],
      "collapsed_sections": []
    },
    "kernelspec": {
      "display_name": "Python 3",
      "language": "python",
      "name": "python3"
    },
    "language_info": {
      "codemirror_mode": {
        "name": "ipython",
        "version": 3
      },
      "file_extension": ".py",
      "mimetype": "text/x-python",
      "name": "python",
      "nbconvert_exporter": "python",
      "pygments_lexer": "ipython3",
      "version": "3.8.3"
    }
  },
  "cells": [
    {
      "cell_type": "markdown",
      "source": [
        "# **Association Rules Mining**\n",
        "Felicia Graciella\n",
        "0706022010004"
      ],
      "metadata": {
        "id": "c91lNL1yV2mT"
      }
    },
    {
      "cell_type": "markdown",
      "source": [
        "Among the different methods of data mining, association rules mining has attracted more attention, which is the main reason for becoming a well-studied topic (Moradi & Keyvanpour, 2015). Association rules mining is a data mining technique to find an associative between an item combination (Fauzy & Asror, 2016). Association rule mining (ARM) aims to extract interesting correlations, frequent patterns, associations or casual structures among sets of items in transaction databases and other data repositories (Ratner, 2017)."
      ],
      "metadata": {
        "id": "ulUrPDBzWC65"
      }
    },
    {
      "cell_type": "markdown",
      "source": [
        "**References** <br>\n",
        "Ratner, B. (2017). Statistical and machine-learning data mining:: Techniques for better predictive modeling and analysis of big data. CRC Press. <br>\n",
        "Fauzy, M., Saleh W, K. R., & Asror, I. (2016). Penerapan Metode Association Rule Menggunakan. Jurnal Ilmiah Teknologi Informasi Terapan, II(2), 221–227. <br>\n",
        "Moradi, M., & Keyvanpour, M. R. (2015). An analytical review of XML association rules mining. Artificial Intelligence Review, 43(2), 277-300. https://doi.org/10.1007/s10462-012-9376-5 <br>\n",
        "Tan, P., Michael, S., Kumar, V. (2005). Chapter 6. Association Analysis: Basic Concepts and Algorithms. Introduction to Data Mining. Addison-Wesley. ISBN 978-0-321-32136-7."
      ],
      "metadata": {
        "id": "hw9J1d1Lxz82"
      }
    },
    {
      "cell_type": "code",
      "source": [],
      "metadata": {
        "id": "BivWF_TvzXhR"
      },
      "execution_count": null,
      "outputs": []
    }
  ]
}